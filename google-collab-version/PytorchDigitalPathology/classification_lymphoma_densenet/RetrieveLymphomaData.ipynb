{
    "cells": [{
            "cell_type": "markdown",
            "metadata": {
                "id": "WxzQdRzjo9ZG"
            },
            "source": ["Retrieving the data files from the server using wget command"]
        }, {
            "cell_type": "code",
            "execution_count": null,
            "metadata": {
                "id": "r0VPBYHXo4_g"
            },
            "outputs": [],
            "source": ["!wget http://andrewjanowczyk.com/wp-static/lymphoma.tar.gz"]
        }, {
            "cell_type": "code",
            "execution_count": null,
            "metadata": {
                "id": "3z4naFJ_r3WY"
            },
            "outputs": [],
            "source": ["from google.colab import drive\n", "drive.mount('/gdrive')\n", "%cd /gdrive/My\\ Drive/PytorchDigitalPathology/google-collab-version/PytorchDigitalPathology/classification_lymphoma_densenet/"]
        }, {
            "cell_type": "code",
            "execution_count": null,
            "metadata": {
                "id": "SidL5IYAsSrG"
            },
            "outputs": [],
            "source": ["#Do not execute if this folder exists\n", "%mkdir data "]
        }, {
            "cell_type": "code",
            "execution_count": null,
            "metadata": {
                "id": "DdWDDExgsMWM"
            },
            "outputs": [],
            "source": ["%cd data"]
        }, {
            "cell_type": "code",
            "execution_count": null,
            "metadata": {
                "id": "BxoeLFmwshe8"
            },
            "outputs": [],
            "source": ["!tar --gunzip --extract --verbose --file=/content/lymphoma.tar.gz"]
        }, {
            "cell_type": "code",
            "execution_count": null,
            "metadata": {
                "id": "BaJ0LzixNIj8"
            },
            "outputs": [],
            "source": [""]
        }
    ],
    "metadata": {
        "colab": {
            "collapsed_sections": [],
            "name": "RetrieveLymphomaData.ipynb",
            "provenance": []
        },
        "kernelspec": {
            "display_name": "Python 3 (ipykernel)",
            "language": "python",
            "name": "python3"
        },
        "language_info": {
            "codemirror_mode": {
                "name": "ipython",
                "version": 3
            },
            "file_extension": ".py",
            "mimetype": "text/x-python",
            "name": "python",
            "nbconvert_exporter": "python",
            "pygments_lexer": "ipython3",
            "version": "3.8.10"
        }
    },
    "nbformat": 4,
    "nbformat_minor": 0
}
